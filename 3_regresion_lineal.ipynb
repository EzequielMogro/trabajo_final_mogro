{
 "cells": [
  {
   "cell_type": "code",
   "execution_count": 3,
   "metadata": {},
   "outputs": [],
   "source": [
    "import pandas as pd\n",
    "import seaborn as sns\n",
    "import scipy.stats as ss\n",
    "import matplotlib.pyplot as plt"
   ]
  },
  {
   "cell_type": "code",
   "execution_count": 4,
   "metadata": {},
   "outputs": [
    {
     "name": "stdout",
     "output_type": "stream",
     "text": [
      "      strain  count      ANI\n",
      "0       AK21     31  99.0635\n",
      "1       AK76     13  99.1606\n",
      "2       AK83     18  99.0357\n",
      "3       Ak57     14  98.3664\n",
      "4       B401      3  99.3525\n",
      "5     BL225C     11  99.3391\n",
      "6        GR4     12  99.1231\n",
      "7      HM006     16  99.1366\n",
      "8      KH35c     17  98.4950\n",
      "9       KH46     15  99.2578\n",
      "10   L6-AK89     12  99.1838\n",
      "11      M162     15  98.8512\n",
      "12  RCAM1115     20  99.0738\n",
      "13  RCAM1750     16  98.8978\n",
      "14     RMO17     17  99.3197\n",
      "15    RRI128     11  98.8918\n",
      "16  RU11_001     35  99.0443\n",
      "17      Rm41     19  98.9615\n",
      "18      S35m     14  99.1645\n",
      "19      SM11     27  99.1517\n",
      "20      T073     11  99.1419\n",
      "21  USDA1021     24  99.1257\n",
      "22  USDA1106     11  99.9697\n",
      "23  USDA1157     26  99.2313\n",
      "PearsonRResult(statistic=-0.15402864396408586, pvalue=0.4723833714049144)\n"
     ]
    },
    {
     "data": {
      "image/png": "[encoded data removed]",
      "text/plain": [
       "<Figure size 432x288 with 1 Axes>"
      ]
     },
     "metadata": {
      "needs_background": "light"
     },
     "output_type": "display_data"
    }
   ],
   "source": [
    "#3. Regresión lineal\n",
    "\n",
    "#se importa la tabla\n",
    "path='./tablas/ani_is.csv'\n",
    "df_ani_is = pd.read_csv(path)\n",
    "print(df_ani_is)\n",
    "\n",
    "#se calcula el coeficiente de pearson\n",
    "x = df_ani_is['is_count'].to_list()\n",
    "y = df_ani_is['ANI'].to_list()\n",
    "\n",
    "print(ss.pearsonr(x, y))\n",
    "\n",
    "#se grafica la recta de regresión lineal\n",
    "sns.regplot(x=x, y=y)\n",
    "plt.savefig('./figuras/regresion_ani_is.jpg')"
   ]
  },
  {
   "cell_type": "code",
   "execution_count": null,
   "metadata": {},
   "outputs": [],
   "source": []
  }
 ],
 "metadata": {
  "kernelspec": {
   "display_name": "base",
   "language": "python",
   "name": "python3"
  },
  "language_info": {
   "codemirror_mode": {
    "name": "ipython",
    "version": 3
   },
   "file_extension": ".py",
   "mimetype": "text/x-python",
   "name": "python",
   "nbconvert_exporter": "python",
   "pygments_lexer": "ipython3",
   "version": "3.8.8"
  },
  "orig_nbformat": 4
 },
 "nbformat": 4,
 "nbformat_minor": 2
}
