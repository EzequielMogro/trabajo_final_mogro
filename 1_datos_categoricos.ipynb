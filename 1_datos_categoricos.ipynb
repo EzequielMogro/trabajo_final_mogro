{
 "cells": [
  {
   "cell_type": "code",
   "execution_count": 1,
   "metadata": {},
   "outputs": [],
   "source": [
    "import pandas as pd\n",
    "import seaborn as sns\n",
    "import matplotlib.pyplot as plt\n",
    "import numpy as np\n",
    "import scipy.stats as ss"
   ]
  },
  {
   "cell_type": "code",
   "execution_count": 2,
   "metadata": {},
   "outputs": [
    {
     "data": {
      "text/html": [
       "<div>\n",
       "<style scoped>\n",
       "    .dataframe tbody tr th:only-of-type {\n",
       "        vertical-align: middle;\n",
       "    }\n",
       "\n",
       "    .dataframe tbody tr th {\n",
       "        vertical-align: top;\n",
       "    }\n",
       "\n",
       "    .dataframe thead th {\n",
       "        text-align: right;\n",
       "    }\n",
       "</style>\n",
       "<table border=\"1\" class=\"dataframe\">\n",
       "  <thead>\n",
       "    <tr style=\"text-align: right;\">\n",
       "      <th></th>\n",
       "      <th>mutant_ID</th>\n",
       "      <th>pool</th>\n",
       "      <th>firma</th>\n",
       "      <th>7dpiAlfL_KSUMA</th>\n",
       "      <th>7dpiAlfL_KValor M</th>\n",
       "      <th>7dpiAlfL_Kt-test</th>\n",
       "      <th>7dpiAlfL_HSUMA</th>\n",
       "      <th>7dpiAlfL_HValor M</th>\n",
       "      <th>7dpiAlfL_Ht-test</th>\n",
       "      <th>position</th>\n",
       "      <th>region</th>\n",
       "      <th>contig</th>\n",
       "      <th>Locus_tag</th>\n",
       "      <th>Gene</th>\n",
       "      <th>Protein</th>\n",
       "      <th>afectado</th>\n",
       "    </tr>\n",
       "  </thead>\n",
       "  <tbody>\n",
       "    <tr>\n",
       "      <th>0</th>\n",
       "      <td>2011mTn5STM.1.01.A01</td>\n",
       "      <td>1.0</td>\n",
       "      <td>97.0</td>\n",
       "      <td>447.25</td>\n",
       "      <td>0.18</td>\n",
       "      <td>0.20</td>\n",
       "      <td>480.50</td>\n",
       "      <td>-0.04</td>\n",
       "      <td>0.59</td>\n",
       "      <td>NaN</td>\n",
       "      <td>NaN</td>\n",
       "      <td>NaN</td>\n",
       "      <td>NaN</td>\n",
       "      <td>NaN</td>\n",
       "      <td>NaN</td>\n",
       "      <td>no_negativo</td>\n",
       "    </tr>\n",
       "    <tr>\n",
       "      <th>1</th>\n",
       "      <td>2011mTn5STM.1.01.A03</td>\n",
       "      <td>1.0</td>\n",
       "      <td>3.0</td>\n",
       "      <td>258.75</td>\n",
       "      <td>0.02</td>\n",
       "      <td>0.91</td>\n",
       "      <td>0.25</td>\n",
       "      <td>-0.15</td>\n",
       "      <td>0.39</td>\n",
       "      <td>2193810.0</td>\n",
       "      <td>]--Intergenic--[</td>\n",
       "      <td>chromosome</td>\n",
       "      <td>SMc04206</td>\n",
       "      <td>SMc04206</td>\n",
       "      <td>hemolysin-type calcium-binding protein</td>\n",
       "      <td>no_negativo</td>\n",
       "    </tr>\n",
       "    <tr>\n",
       "      <th>2</th>\n",
       "      <td>2011mTn5STM.1.01.A04</td>\n",
       "      <td>1.0</td>\n",
       "      <td>4.0</td>\n",
       "      <td>440.00</td>\n",
       "      <td>0.19</td>\n",
       "      <td>0.62</td>\n",
       "      <td>375.00</td>\n",
       "      <td>0.32</td>\n",
       "      <td>0.48</td>\n",
       "      <td>53213.0</td>\n",
       "      <td>AE006469_51</td>\n",
       "      <td>pSymA</td>\n",
       "      <td>SMa0104</td>\n",
       "      <td>SMa0104</td>\n",
       "      <td>ABC transporter substrate-binding protein</td>\n",
       "      <td>no_negativo</td>\n",
       "    </tr>\n",
       "    <tr>\n",
       "      <th>3</th>\n",
       "      <td>2011mTn5STM.1.01.A05</td>\n",
       "      <td>1.0</td>\n",
       "      <td>5.0</td>\n",
       "      <td>463.00</td>\n",
       "      <td>-0.20</td>\n",
       "      <td>0.08</td>\n",
       "      <td>531.75</td>\n",
       "      <td>-0.35</td>\n",
       "      <td>0.01</td>\n",
       "      <td>3199830.0</td>\n",
       "      <td>SME591688_3013</td>\n",
       "      <td>chromosome</td>\n",
       "      <td>SMc03130</td>\n",
       "      <td>SMc03130</td>\n",
       "      <td>hypothetical protein</td>\n",
       "      <td>no_negativo</td>\n",
       "    </tr>\n",
       "    <tr>\n",
       "      <th>4</th>\n",
       "      <td>2011mTn5STM.1.01.A06</td>\n",
       "      <td>1.0</td>\n",
       "      <td>6.0</td>\n",
       "      <td>470.25</td>\n",
       "      <td>-0.34</td>\n",
       "      <td>0.09</td>\n",
       "      <td>687.00</td>\n",
       "      <td>-0.52</td>\n",
       "      <td>0.02</td>\n",
       "      <td>3426879.0</td>\n",
       "      <td>SME591688_3204</td>\n",
       "      <td>chromosome</td>\n",
       "      <td>SMc03762</td>\n",
       "      <td>SMc03762</td>\n",
       "      <td>hypothetical protein</td>\n",
       "      <td>no_negativo</td>\n",
       "    </tr>\n",
       "  </tbody>\n",
       "</table>\n",
       "</div>"
      ],
      "text/plain": [
       "              mutant_ID  pool  firma  7dpiAlfL_KSUMA  7dpiAlfL_KValor M  \\\n",
       "0  2011mTn5STM.1.01.A01   1.0   97.0          447.25               0.18   \n",
       "1  2011mTn5STM.1.01.A03   1.0    3.0          258.75               0.02   \n",
       "2  2011mTn5STM.1.01.A04   1.0    4.0          440.00               0.19   \n",
       "3  2011mTn5STM.1.01.A05   1.0    5.0          463.00              -0.20   \n",
       "4  2011mTn5STM.1.01.A06   1.0    6.0          470.25              -0.34   \n",
       "\n",
       "   7dpiAlfL_Kt-test  7dpiAlfL_HSUMA  7dpiAlfL_HValor M  7dpiAlfL_Ht-test  \\\n",
       "0              0.20          480.50              -0.04              0.59   \n",
       "1              0.91            0.25              -0.15              0.39   \n",
       "2              0.62          375.00               0.32              0.48   \n",
       "3              0.08          531.75              -0.35              0.01   \n",
       "4              0.09          687.00              -0.52              0.02   \n",
       "\n",
       "    position            region      contig Locus_tag      Gene  \\\n",
       "0        NaN               NaN         NaN       NaN       NaN   \n",
       "1  2193810.0  ]--Intergenic--[  chromosome  SMc04206  SMc04206   \n",
       "2    53213.0       AE006469_51       pSymA   SMa0104   SMa0104   \n",
       "3  3199830.0    SME591688_3013  chromosome  SMc03130  SMc03130   \n",
       "4  3426879.0    SME591688_3204  chromosome  SMc03762  SMc03762   \n",
       "\n",
       "                                     Protein     afectado  \n",
       "0                                        NaN  no_negativo  \n",
       "1     hemolysin-type calcium-binding protein  no_negativo  \n",
       "2  ABC transporter substrate-binding protein  no_negativo  \n",
       "3                       hypothetical protein  no_negativo  \n",
       "4                       hypothetical protein  no_negativo  "
      ]
     },
     "metadata": {},
     "output_type": "display_data"
    }
   ],
   "source": [
    "#1. Análisis estadístico de datos categóricos\n",
    "\n",
    "#Se importa una tabla con resultados de ensayos de competencia por la colonización rizosférica con pooles de mutantes como inóculo\n",
    "path = './tablas/competencia_pooles.csv'\n",
    "competencia_df = pd.read_csv(path)\n",
    "#Utilizando los valores M y p-value de cada firma se clasifica cada mutante como 'negativo' y 'no_negativo'\n",
    "competencia_df['afectado'] = np.where((competencia_df['7dpiAlfL_KValor M']<-0.7) & (competencia_df['7dpiAlfL_HValor M']<-0.7) & (competencia_df['7dpiAlfL_Kt-test']<0.1) & (competencia_df['7dpiAlfL_Ht-test']<0.1), 'negativo', 'no_negativo')\n",
    "display(competencia_df.head())"
   ]
  },
  {
   "cell_type": "code",
   "execution_count": 3,
   "metadata": {},
   "outputs": [
    {
     "name": "stderr",
     "output_type": "stream",
     "text": [
      "/home/eze/anaconda3/lib/python3.8/site-packages/seaborn/_decorators.py:36: FutureWarning: Pass the following variables as keyword args: x, y. From version 0.12, the only valid positional argument will be `data`, and passing other arguments without an explicit keyword will result in an error or misinterpretation.\n",
      "  warnings.warn(\n"
     ]
    },
    {
     "data": {
      "image/png": "[encoded data removed]",
      "text/plain": [
       "<Figure size 432x288 with 1 Axes>"
      ]
     },
     "metadata": {
      "needs_background": "light"
     },
     "output_type": "display_data"
    },
    {
     "data": {
      "text/plain": [
       "chromosome    2530\n",
       "pSymB         1422\n",
       "pSymA         1007\n",
       "Name: contig, dtype: int64"
      ]
     },
     "metadata": {},
     "output_type": "display_data"
    }
   ],
   "source": [
    "#Se grafica en un histograma la frecuencia de distribución de localización de inserciones\n",
    "contig_count = competencia_df['contig'].value_counts()\n",
    "sns.set()\n",
    "sns.barplot(contig_count.index, contig_count.values)\n",
    "plt.title('Frecuencia de distribución de localización de inserciones')\n",
    "plt.ylabel('mutantes', fontsize=12)\n",
    "plt.savefig('./figuras/distribucion_inserciones_genoma.jpg')\n",
    "plt.show()\n",
    "\n",
    "display(contig_count)"
   ]
  },
  {
   "cell_type": "code",
   "execution_count": 4,
   "metadata": {},
   "outputs": [
    {
     "name": "stderr",
     "output_type": "stream",
     "text": [
      "/home/eze/anaconda3/lib/python3.8/site-packages/seaborn/_decorators.py:36: FutureWarning: Pass the following variables as keyword args: x, y. From version 0.12, the only valid positional argument will be `data`, and passing other arguments without an explicit keyword will result in an error or misinterpretation.\n",
      "  warnings.warn(\n"
     ]
    },
    {
     "data": {
      "image/png": "[encoded data removed]",
      "text/plain": [
       "<Figure size 432x288 with 1 Axes>"
      ]
     },
     "metadata": {},
     "output_type": "display_data"
    }
   ],
   "source": [
    "#Se grafica en un histograma la frecuencia de distribución del efecto de las mutaciones en competencia por la colonización rizosférica\n",
    "afectado_count = competencia_df['afectado'].value_counts()\n",
    "sns.set()\n",
    "sns.barplot(afectado_count.index, afectado_count.values)\n",
    "plt.title(\"Frecuencia de distribución del efecto en competencia\")\n",
    "plt.ylabel('mutantes', fontsize=12)\n",
    "plt.savefig('./figuras/distribucion_mutantes_afectados_negativamente.jpg')\n",
    "plt.show()"
   ]
  },
  {
   "cell_type": "code",
   "execution_count": 5,
   "metadata": {},
   "outputs": [
    {
     "name": "stdout",
     "output_type": "stream",
     "text": [
      "contig  afectado\n",
      "False   False       2407\n",
      "        True          22\n",
      "True    False       2380\n",
      "        True         150\n",
      "dtype: int64\n",
      "Power_divergenceResult(statistic=4301.76467029643, pvalue=0.0)\n"
     ]
    }
   ],
   "source": [
    "#Usando el test de Chi cuadrado se compara si la ubicación genómica de la mutación tiene relación con el efecto que podría generar\n",
    "#se genera la tabla de contingencia para comparar mutantes afectados o no afectados y la ubición en el cromosoma o en cualquiera de los plásmidos\n",
    "df2 = competencia_df['contig'] + competencia_df['afectado']\n",
    "\n",
    "a = competencia_df['contig'] == 'chromosome'\n",
    "b = competencia_df['afectado'] == 'negativo'\n",
    "\n",
    "groups = df2.groupby([a,b]).count() \n",
    "print (groups)\n",
    "\n",
    "#se realiza el test de chi cuadrado\n",
    "print(ss.chisquare(groups, ddof=0, axis=0))"
   ]
  },
  {
   "cell_type": "code",
   "execution_count": 6,
   "metadata": {},
   "outputs": [
    {
     "name": "stdout",
     "output_type": "stream",
     "text": [
      "contig  afectado\n",
      "False   False       1403\n",
      "        True          19\n",
      "True    False       2380\n",
      "        True         150\n",
      "dtype: int64\n",
      "Power_divergenceResult(statistic=3796.653846153846, pvalue=0.0)\n"
     ]
    }
   ],
   "source": [
    "# y por último se compara entre los ubicados en el cromosoma y el plásmido pSymB\n",
    "# la tabla competencia_df se filtra para descartar los mutantes en pSymA\n",
    "competencia_df_plasmidos = competencia_df[(competencia_df['contig']=='chromosome') | (competencia_df['contig']=='pSymB')]\n",
    "\n",
    "#se genera la talba de contingencia\n",
    "df2 = competencia_df_plasmidos['contig'] + competencia_df_plasmidos['afectado']\n",
    "\n",
    "a = competencia_df['contig'] == 'chromosome'\n",
    "b = competencia_df['afectado'] == 'negativo'\n",
    "\n",
    "groups = df2.groupby([a,b]).count() \n",
    "print (groups)\n",
    "\n",
    "#se realiza el test de chi cuadrado\n",
    "print(ss.chisquare(groups, ddof=0, axis=0))"
   ]
  },
  {
   "cell_type": "code",
   "execution_count": null,
   "metadata": {},
   "outputs": [],
   "source": []
  }
 ],
 "metadata": {
  "kernelspec": {
   "display_name": "base",
   "language": "python",
   "name": "python3"
  },
  "language_info": {
   "codemirror_mode": {
    "name": "ipython",
    "version": 3
   },
   "file_extension": ".py",
   "mimetype": "text/x-python",
   "name": "python",
   "nbconvert_exporter": "python",
   "pygments_lexer": "ipython3",
   "version": "3.8.8"
  },
  "orig_nbformat": 4
 },
 "nbformat": 4,
 "nbformat_minor": 2
}
