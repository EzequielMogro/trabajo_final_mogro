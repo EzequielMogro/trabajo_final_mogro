{
 "cells": [
  {
   "cell_type": "code",
   "execution_count": 1,
   "metadata": {},
   "outputs": [],
   "source": [
    "import pandas as pd\n",
    "import matplotlib.pyplot as plt\n",
    "import numpy as np\n",
    "import scipy.stats as ss\n",
    "from statsmodels.stats.power import TTestIndPower"
   ]
  },
  {
   "cell_type": "code",
   "execution_count": 2,
   "metadata": {},
   "outputs": [
    {
     "data": {
      "text/html": [
       "<div>\n",
       "<style scoped>\n",
       "    .dataframe tbody tr th:only-of-type {\n",
       "        vertical-align: middle;\n",
       "    }\n",
       "\n",
       "    .dataframe tbody tr th {\n",
       "        vertical-align: top;\n",
       "    }\n",
       "\n",
       "    .dataframe thead th {\n",
       "        text-align: right;\n",
       "    }\n",
       "</style>\n",
       "<table border=\"1\" class=\"dataframe\">\n",
       "  <thead>\n",
       "    <tr style=\"text-align: right;\">\n",
       "      <th></th>\n",
       "      <th>entrada_mut</th>\n",
       "      <th>entrada_wt</th>\n",
       "      <th>salida_mut</th>\n",
       "      <th>salida_wt</th>\n",
       "    </tr>\n",
       "  </thead>\n",
       "  <tbody>\n",
       "    <tr>\n",
       "      <th>0</th>\n",
       "      <td>128</td>\n",
       "      <td>112</td>\n",
       "      <td>45</td>\n",
       "      <td>82</td>\n",
       "    </tr>\n",
       "    <tr>\n",
       "      <th>1</th>\n",
       "      <td>81</td>\n",
       "      <td>61</td>\n",
       "      <td>46</td>\n",
       "      <td>93</td>\n",
       "    </tr>\n",
       "    <tr>\n",
       "      <th>2</th>\n",
       "      <td>76</td>\n",
       "      <td>63</td>\n",
       "      <td>61</td>\n",
       "      <td>117</td>\n",
       "    </tr>\n",
       "    <tr>\n",
       "      <th>3</th>\n",
       "      <td>105</td>\n",
       "      <td>102</td>\n",
       "      <td>63</td>\n",
       "      <td>81</td>\n",
       "    </tr>\n",
       "    <tr>\n",
       "      <th>4</th>\n",
       "      <td>58</td>\n",
       "      <td>49</td>\n",
       "      <td>39</td>\n",
       "      <td>81</td>\n",
       "    </tr>\n",
       "    <tr>\n",
       "      <th>5</th>\n",
       "      <td>180</td>\n",
       "      <td>162</td>\n",
       "      <td>50</td>\n",
       "      <td>113</td>\n",
       "    </tr>\n",
       "    <tr>\n",
       "      <th>6</th>\n",
       "      <td>109</td>\n",
       "      <td>103</td>\n",
       "      <td>35</td>\n",
       "      <td>72</td>\n",
       "    </tr>\n",
       "    <tr>\n",
       "      <th>7</th>\n",
       "      <td>93</td>\n",
       "      <td>81</td>\n",
       "      <td>58</td>\n",
       "      <td>108</td>\n",
       "    </tr>\n",
       "    <tr>\n",
       "      <th>8</th>\n",
       "      <td>69</td>\n",
       "      <td>55</td>\n",
       "      <td>63</td>\n",
       "      <td>125</td>\n",
       "    </tr>\n",
       "  </tbody>\n",
       "</table>\n",
       "</div>"
      ],
      "text/plain": [
       "   entrada_mut  entrada_wt  salida_mut  salida_wt\n",
       "0          128         112          45         82\n",
       "1           81          61          46         93\n",
       "2           76          63          61        117\n",
       "3          105         102          63         81\n",
       "4           58          49          39         81\n",
       "5          180         162          50        113\n",
       "6          109         103          35         72\n",
       "7           93          81          58        108\n",
       "8           69          55          63        125"
      ]
     },
     "metadata": {},
     "output_type": "display_data"
    }
   ],
   "source": [
    "#2. Análisis estadístico de datos continuos\n",
    "\n",
    "# Se importa la tabla con los datos de competencia al coinocular un mutante con la cepa salvaje\n",
    "# Cada columna hace referencia a los recuentos de colonias en el inóculo inicial ('entrada_') y final ('salida_') para la cepa mutante ('mut') y  salvaje('wt')\n",
    "path='./tablas/competencia_individual.csv'\n",
    "df = pd.read_csv(path)\n",
    "display(df)"
   ]
  },
  {
   "cell_type": "code",
   "execution_count": 3,
   "metadata": {},
   "outputs": [
    {
     "data": {
      "text/html": [
       "<div>\n",
       "<style scoped>\n",
       "    .dataframe tbody tr th:only-of-type {\n",
       "        vertical-align: middle;\n",
       "    }\n",
       "\n",
       "    .dataframe tbody tr th {\n",
       "        vertical-align: top;\n",
       "    }\n",
       "\n",
       "    .dataframe thead th {\n",
       "        text-align: right;\n",
       "    }\n",
       "</style>\n",
       "<table border=\"1\" class=\"dataframe\">\n",
       "  <thead>\n",
       "    <tr style=\"text-align: right;\">\n",
       "      <th></th>\n",
       "      <th>entrada_mut</th>\n",
       "      <th>entrada_wt</th>\n",
       "      <th>salida_mut</th>\n",
       "      <th>salida_wt</th>\n",
       "      <th>proporcion_entrada</th>\n",
       "      <th>proporcion_salida</th>\n",
       "    </tr>\n",
       "  </thead>\n",
       "  <tbody>\n",
       "    <tr>\n",
       "      <th>0</th>\n",
       "      <td>128</td>\n",
       "      <td>112</td>\n",
       "      <td>45</td>\n",
       "      <td>82</td>\n",
       "      <td>0.533333</td>\n",
       "      <td>0.354331</td>\n",
       "    </tr>\n",
       "    <tr>\n",
       "      <th>1</th>\n",
       "      <td>81</td>\n",
       "      <td>61</td>\n",
       "      <td>46</td>\n",
       "      <td>93</td>\n",
       "      <td>0.570423</td>\n",
       "      <td>0.330935</td>\n",
       "    </tr>\n",
       "    <tr>\n",
       "      <th>2</th>\n",
       "      <td>76</td>\n",
       "      <td>63</td>\n",
       "      <td>61</td>\n",
       "      <td>117</td>\n",
       "      <td>0.546763</td>\n",
       "      <td>0.342697</td>\n",
       "    </tr>\n",
       "    <tr>\n",
       "      <th>3</th>\n",
       "      <td>105</td>\n",
       "      <td>102</td>\n",
       "      <td>63</td>\n",
       "      <td>81</td>\n",
       "      <td>0.507246</td>\n",
       "      <td>0.437500</td>\n",
       "    </tr>\n",
       "    <tr>\n",
       "      <th>4</th>\n",
       "      <td>58</td>\n",
       "      <td>49</td>\n",
       "      <td>39</td>\n",
       "      <td>81</td>\n",
       "      <td>0.542056</td>\n",
       "      <td>0.325000</td>\n",
       "    </tr>\n",
       "    <tr>\n",
       "      <th>5</th>\n",
       "      <td>180</td>\n",
       "      <td>162</td>\n",
       "      <td>50</td>\n",
       "      <td>113</td>\n",
       "      <td>0.526316</td>\n",
       "      <td>0.306748</td>\n",
       "    </tr>\n",
       "    <tr>\n",
       "      <th>6</th>\n",
       "      <td>109</td>\n",
       "      <td>103</td>\n",
       "      <td>35</td>\n",
       "      <td>72</td>\n",
       "      <td>0.514151</td>\n",
       "      <td>0.327103</td>\n",
       "    </tr>\n",
       "    <tr>\n",
       "      <th>7</th>\n",
       "      <td>93</td>\n",
       "      <td>81</td>\n",
       "      <td>58</td>\n",
       "      <td>108</td>\n",
       "      <td>0.534483</td>\n",
       "      <td>0.349398</td>\n",
       "    </tr>\n",
       "    <tr>\n",
       "      <th>8</th>\n",
       "      <td>69</td>\n",
       "      <td>55</td>\n",
       "      <td>63</td>\n",
       "      <td>125</td>\n",
       "      <td>0.556452</td>\n",
       "      <td>0.335106</td>\n",
       "    </tr>\n",
       "  </tbody>\n",
       "</table>\n",
       "</div>"
      ],
      "text/plain": [
       "   entrada_mut  entrada_wt  salida_mut  salida_wt  proporcion_entrada  \\\n",
       "0          128         112          45         82            0.533333   \n",
       "1           81          61          46         93            0.570423   \n",
       "2           76          63          61        117            0.546763   \n",
       "3          105         102          63         81            0.507246   \n",
       "4           58          49          39         81            0.542056   \n",
       "5          180         162          50        113            0.526316   \n",
       "6          109         103          35         72            0.514151   \n",
       "7           93          81          58        108            0.534483   \n",
       "8           69          55          63        125            0.556452   \n",
       "\n",
       "   proporcion_salida  \n",
       "0           0.354331  \n",
       "1           0.330935  \n",
       "2           0.342697  \n",
       "3           0.437500  \n",
       "4           0.325000  \n",
       "5           0.306748  \n",
       "6           0.327103  \n",
       "7           0.349398  \n",
       "8           0.335106  "
      ]
     },
     "metadata": {},
     "output_type": "display_data"
    }
   ],
   "source": [
    "# Se determina la proporción de mutantes en el inóculo y luego del ensayo de competencia\n",
    "df['proporcion_entrada'] = df['entrada_mut']/(df['entrada_mut']+df['entrada_wt'])\n",
    "df['proporcion_salida'] = df['salida_mut']/(df['salida_mut']+df['salida_wt'])\n",
    "display(df)"
   ]
  },
  {
   "cell_type": "code",
   "execution_count": 4,
   "metadata": {},
   "outputs": [
    {
     "data": {
      "image/png": "[encoded data removed]",
      "text/plain": [
       "<Figure size 720x360 with 2 Axes>"
      ]
     },
     "metadata": {
      "needs_background": "light"
     },
     "output_type": "display_data"
    }
   ],
   "source": [
    "# Gráficos de distribución de la proporción en la mezcla de entrada y de salida\n",
    "plt.figure(figsize=(10, 5))\n",
    "\n",
    "plt.subplot(1, 2, 1)\n",
    "plt.hist(df['proporcion_entrada'], bins=15)\n",
    "plt.xlabel('Proporción de mutantes')\n",
    "plt.ylabel('Frecuencia')\n",
    "plt.title('Mezcla de entrada')\n",
    "\n",
    "plt.subplot(1, 2, 2)\n",
    "plt.hist(df['proporcion_salida'], bins=15)\n",
    "plt.xlabel('Proporción de mutantes')\n",
    "plt.title('Mezcla de salida')\n",
    "plt.savefig('./figuras/distribucion_porporciones_individual.jpg')\n",
    "plt.show()"
   ]
  },
  {
   "cell_type": "code",
   "execution_count": 5,
   "metadata": {},
   "outputs": [
    {
     "data": {
      "text/html": [
       "<div>\n",
       "<style scoped>\n",
       "    .dataframe tbody tr th:only-of-type {\n",
       "        vertical-align: middle;\n",
       "    }\n",
       "\n",
       "    .dataframe tbody tr th {\n",
       "        vertical-align: top;\n",
       "    }\n",
       "\n",
       "    .dataframe thead th {\n",
       "        text-align: right;\n",
       "    }\n",
       "</style>\n",
       "<table border=\"1\" class=\"dataframe\">\n",
       "  <thead>\n",
       "    <tr style=\"text-align: right;\">\n",
       "      <th></th>\n",
       "      <th>proporcion_entrada</th>\n",
       "      <th>proporcion_salida</th>\n",
       "    </tr>\n",
       "  </thead>\n",
       "  <tbody>\n",
       "    <tr>\n",
       "      <th>media</th>\n",
       "      <td>0.536802</td>\n",
       "      <td>0.345424</td>\n",
       "    </tr>\n",
       "    <tr>\n",
       "      <th>mediana</th>\n",
       "      <td>0.534483</td>\n",
       "      <td>0.335106</td>\n",
       "    </tr>\n",
       "    <tr>\n",
       "      <th>rango</th>\n",
       "      <td>0.063176</td>\n",
       "      <td>0.130752</td>\n",
       "    </tr>\n",
       "    <tr>\n",
       "      <th>RI</th>\n",
       "      <td>0.020447</td>\n",
       "      <td>0.022295</td>\n",
       "    </tr>\n",
       "    <tr>\n",
       "      <th>desviación estandar</th>\n",
       "      <td>0.019866</td>\n",
       "      <td>0.037325</td>\n",
       "    </tr>\n",
       "    <tr>\n",
       "      <th>varianza</th>\n",
       "      <td>0.000395</td>\n",
       "      <td>0.001393</td>\n",
       "    </tr>\n",
       "    <tr>\n",
       "      <th>CV</th>\n",
       "      <td>0.037008</td>\n",
       "      <td>0.108057</td>\n",
       "    </tr>\n",
       "    <tr>\n",
       "      <th>skewness</th>\n",
       "      <td>0.165462</td>\n",
       "      <td>2.177929</td>\n",
       "    </tr>\n",
       "    <tr>\n",
       "      <th>kurtosis</th>\n",
       "      <td>-0.313466</td>\n",
       "      <td>5.704371</td>\n",
       "    </tr>\n",
       "  </tbody>\n",
       "</table>\n",
       "</div>"
      ],
      "text/plain": [
       "                     proporcion_entrada  proporcion_salida\n",
       "media                          0.536802           0.345424\n",
       "mediana                        0.534483           0.335106\n",
       "rango                          0.063176           0.130752\n",
       "RI                             0.020447           0.022295\n",
       "desviación estandar            0.019866           0.037325\n",
       "varianza                       0.000395           0.001393\n",
       "CV                             0.037008           0.108057\n",
       "skewness                       0.165462           2.177929\n",
       "kurtosis                      -0.313466           5.704371"
      ]
     },
     "metadata": {},
     "output_type": "display_data"
    }
   ],
   "source": [
    "media_entrada = df['proporcion_entrada'].mean()\n",
    "mediana_entrada = df['proporcion_entrada'].median()\n",
    "rango_entrada = df['proporcion_entrada'].max()-df['proporcion_entrada'].min()\n",
    "RI_entrada = df['proporcion_entrada'].quantile(0.75)-df['proporcion_entrada'].quantile(0.25)\n",
    "std_entrada = df['proporcion_entrada'].std()\n",
    "var_entrada = df['proporcion_entrada'].var()\n",
    "cv_entrada = std_entrada/media_entrada\n",
    "skew_entrada = df['proporcion_entrada'].skew()\n",
    "kurt_entrada = df['proporcion_entrada'].kurt()\n",
    "\n",
    "media_salida = df['proporcion_salida'].mean()\n",
    "mediana_salida = df['proporcion_salida'].median()\n",
    "rango_salida = df['proporcion_salida'].max()-df['proporcion_salida'].min()\n",
    "RI_salida = df['proporcion_salida'].quantile(0.75)-df['proporcion_salida'].quantile(0.25)\n",
    "std_salida = df['proporcion_salida'].std()\n",
    "var_salida = df['proporcion_salida'].var()\n",
    "cv_salida = std_salida/media_salida\n",
    "skew_salida = df['proporcion_salida'].skew()\n",
    "kurt_salida = df['proporcion_salida'].kurt()\n",
    "\n",
    "index_medidas = ['media', 'mediana', 'rango', 'RI', 'desviación estandar', 'varianza', 'CV', 'skewness', 'kurtosis']\n",
    "df_medidas = pd.DataFrame(index = index_medidas)\n",
    "df_medidas['proporcion_entrada'] = [media_entrada, mediana_entrada, rango_entrada, RI_entrada, std_entrada, var_entrada, cv_entrada, skew_entrada, kurt_entrada]\n",
    "df_medidas['proporcion_salida'] = [media_salida, mediana_salida, rango_salida, RI_salida, std_salida, var_salida, cv_salida, skew_salida, kurt_salida]\n",
    "\n",
    "display(df_medidas)"
   ]
  },
  {
   "cell_type": "code",
   "execution_count": 6,
   "metadata": {},
   "outputs": [
    {
     "name": "stdout",
     "output_type": "stream",
     "text": [
      "LeveneResult(statistic=0.34544747195205794, pvalue=0.5649054080181134)\n"
     ]
    }
   ],
   "source": [
    "#test de homocedasticidad\n",
    "print(ss.levene(df['proporcion_entrada'],df['proporcion_salida'], center='median', proportiontocut=0.05))\n"
   ]
  },
  {
   "cell_type": "code",
   "execution_count": 7,
   "metadata": {},
   "outputs": [
    {
     "name": "stdout",
     "output_type": "stream",
     "text": [
      "ShapiroResult(statistic=0.9857801198959351, pvalue=0.9873412847518921)\n",
      "ShapiroResult(statistic=0.7596855163574219, pvalue=0.007019908633083105)\n"
     ]
    }
   ],
   "source": [
    "#test de normalidad para entrada y salida\n",
    "print(ss.shapiro(df['proporcion_entrada']))\n",
    "print(ss.shapiro(df['proporcion_salida']))\n"
   ]
  },
  {
   "cell_type": "code",
   "execution_count": 8,
   "metadata": {},
   "outputs": [
    {
     "name": "stdout",
     "output_type": "stream",
     "text": [
      "0    0.253092\n",
      "1    0.411726\n",
      "2    0.077508\n",
      "3    2.616474\n",
      "4    0.580385\n",
      "5    1.099030\n",
      "6    0.520630\n",
      "7    0.112910\n",
      "8    0.293197\n",
      "Name: proporcion_salida, dtype: float64\n"
     ]
    }
   ],
   "source": [
    "#test de outliers\n",
    "z = np.abs(ss.zscore(df['proporcion_salida'])) # threshold = 3\n",
    "print(z)"
   ]
  },
  {
   "cell_type": "code",
   "execution_count": 9,
   "metadata": {},
   "outputs": [
    {
     "name": "stdout",
     "output_type": "stream",
     "text": [
      "   proporcion_salida\n",
      "0           0.354331\n",
      "1           0.330935\n",
      "2           0.342697\n",
      "3           0.437500\n",
      "4           0.325000\n",
      "5           0.306748\n",
      "6           0.327103\n",
      "7           0.349398\n",
      "8           0.335106\n"
     ]
    }
   ],
   "source": [
    "#Diferencia de intercuartilos para descartar outliers\n",
    "\n",
    "df_salida = pd.DataFrame(df['proporcion_salida'])\n",
    "\n",
    "Q1 = df_salida.quantile(0.02)\n",
    "Q3 = df_salida.quantile(0.98)\n",
    "IQR = Q3 - Q1\n",
    "idx = ~((df_salida < (Q1 - 1.5 * IQR)) | (df_salida > (Q3 + 1.5 * IQR)))\n",
    "print(df_salida[idx])"
   ]
  },
  {
   "cell_type": "code",
   "execution_count": 10,
   "metadata": {},
   "outputs": [
    {
     "name": "stdout",
     "output_type": "stream",
     "text": [
      "tamaño muestral = 698.6381512056058\n"
     ]
    },
    {
     "name": "stderr",
     "output_type": "stream",
     "text": [
      "/home/eze/.local/lib/python3.8/site-packages/scipy/stats/_continuous_distns.py:6832: RuntimeWarning: invalid value encountered in _nct_sf\n",
      "  return np.clip(_boost._nct_sf(x, df, nc), 0, 1)\n",
      "/home/eze/.local/lib/python3.8/site-packages/scipy/stats/_continuous_distns.py:6826: RuntimeWarning: invalid value encountered in _nct_cdf\n",
      "  return np.clip(_boost._nct_cdf(x, df, nc), 0, 1)\n"
     ]
    }
   ],
   "source": [
    "#Asumiendo normalidad, se calcula el tamaño muestral necesario\n",
    "\n",
    "ttp = TTestIndPower()\n",
    "n = ttp.solve_power(effect_size=0.15, alpha=0.05, power=0.8, ratio=1.0, alternative='two-sided')\n",
    "print('tamaño muestral = ' + str(n))\n"
   ]
  },
  {
   "cell_type": "code",
   "execution_count": 11,
   "metadata": {},
   "outputs": [
    {
     "name": "stdout",
     "output_type": "stream",
     "text": [
      "KstestResult(statistic=1.0, pvalue=4.11353352529823e-05, statistic_location=0.4375, statistic_sign=-1)\n"
     ]
    }
   ],
   "source": [
    "#Test no parametrico de Kolmogorov-Smirnov para dos muestras\n",
    "print(ss.ks_2samp(df['proporcion_entrada'], df['proporcion_salida'], alternative='two-sided', method='auto'))"
   ]
  },
  {
   "cell_type": "code",
   "execution_count": null,
   "metadata": {},
   "outputs": [],
   "source": []
  }
 ],
 "metadata": {
  "kernelspec": {
   "display_name": "base",
   "language": "python",
   "name": "python3"
  },
  "language_info": {
   "codemirror_mode": {
    "name": "ipython",
    "version": 3
   },
   "file_extension": ".py",
   "mimetype": "text/x-python",
   "name": "python",
   "nbconvert_exporter": "python",
   "pygments_lexer": "ipython3",
   "version": "3.8.8"
  },
  "orig_nbformat": 4
 },
 "nbformat": 4,
 "nbformat_minor": 2
}
