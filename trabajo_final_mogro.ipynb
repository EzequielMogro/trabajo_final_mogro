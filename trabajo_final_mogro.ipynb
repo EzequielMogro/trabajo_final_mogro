{
 "cells": [
  {
   "cell_type": "code",
   "execution_count": 45,
   "metadata": {},
   "outputs": [
    {
     "name": "stdout",
     "output_type": "stream",
     "text": [
      "                 mutant_ID  pool  firma  7dpiAlfL_KSUMA  7dpiAlfL_KValor M  \\\n",
      "913   2011mTn5STM.1.10.H02  10.0   86.0          286.00              -0.81   \n",
      "3760  2011mTn5STM.3.11.B02  11.0  470.0          166.75              -0.90   \n",
      "5278  2011mTn5STM.4.12.C04  12.0  316.0          473.50              -0.99   \n",
      "\n",
      "      7dpiAlfL_Kt-test  7dpiAlfL_HSUMA  7dpiAlfL_HValor M  7dpiAlfL_Ht-test  \\\n",
      "913           0.007157          514.00              -0.75          0.070000   \n",
      "3760          0.010000          143.75              -0.87          0.003726   \n",
      "5278          0.000208          521.25              -1.15          0.000545   \n",
      "\n",
      "       position            region contig Locus_tag         Gene  \\\n",
      "913   1173803.0     AE006469_1134  pSymA   SMa2077      SMa2077   \n",
      "3760  1263021.0  ]--Intergenic--[  pSymA        --   Intergenic   \n",
      "5278   806816.0      AE006469_799  pSymA   SMa1465      SMa1465   \n",
      "\n",
      "                       Protein  afectado  \n",
      "913             oxidoreductase  negativo  \n",
      "3760                Non coding  negativo  \n",
      "5278  ABC transporter permease  negativo  \n"
     ]
    }
   ],
   "source": [
    "import pandas as pd\n",
    "import seaborn as sns\n",
    "import matplotlib.pyplot as plt\n",
    "import os\n",
    "import numpy as np\n",
    "import scipy.stats as ss\n",
    "\n",
    "competencia_df = pd.read_csv('/media/eze/Data/Documents/Facultad/00_doc/Mutantes/7dpiAlfL.csv')\n",
    "competencia_df['afectado'] = np.where((competencia_df['7dpiAlfL_KValor M']<-0.7) & (competencia_df['7dpiAlfL_HValor M']<-0.7) & (competencia_df['7dpiAlfL_Kt-test']<0.1) & (competencia_df['7dpiAlfL_Ht-test']<0.1), 'negativo', 'no_negativo')\n",
    "print(competencia_df[(competencia_df['contig']=='pSymA') & (competencia_df['afectado']=='negativo')])"
   ]
  },
  {
   "cell_type": "code",
   "execution_count": 46,
   "metadata": {},
   "outputs": [
    {
     "name": "stdout",
     "output_type": "stream",
     "text": [
      "            mutant_ID  pool  firma  7dpiAlfL_KSUMA  7dpiAlfL_KValor M  \\\n",
      "contig                                                                  \n",
      "chromosome       2530  2530   2530            2530               2530   \n",
      "pSymA            1007  1007   1007            1007               1007   \n",
      "pSymB            1422  1422   1422            1422               1422   \n",
      "\n",
      "            7dpiAlfL_Kt-test  7dpiAlfL_HSUMA  7dpiAlfL_HValor M  \\\n",
      "contig                                                            \n",
      "chromosome              2530            2530               2530   \n",
      "pSymA                   1007            1007               1007   \n",
      "pSymB                   1422            1422               1422   \n",
      "\n",
      "            7dpiAlfL_Ht-test  position  region  Locus_tag  Gene  Protein  \\\n",
      "contig                                                                     \n",
      "chromosome              2530      2530    2530       2530  2514     2514   \n",
      "pSymA                   1007      1007    1007        996   996      996   \n",
      "pSymB                   1422      1422    1422       1418  1416     1416   \n",
      "\n",
      "            afectado  \n",
      "contig                \n",
      "chromosome      2530  \n",
      "pSymA           1007  \n",
      "pSymB           1422  \n"
     ]
    }
   ],
   "source": [
    "#M<-0,7 y un p < 0,1, tanto en la firma K como en la firma H\n",
    "\n",
    "# filtrados_df = afectados_df[(afectados_df['7dpiAlfL_KValor M']<-0.7) & (afectados_df['7dpiAlfL_HValor M']<-0.7) & (afectados_df['7dpiAlfL_Kt-test']<0.1) & (afectados_df['7dpiAlfL_Ht-test']<0.1)]\n",
    "# print(filtrados_df.shape)\n",
    "\n",
    "print(competencia_df.groupby('contig').count())\n"
   ]
  },
  {
   "cell_type": "code",
   "execution_count": 47,
   "metadata": {},
   "outputs": [
    {
     "name": "stdout",
     "output_type": "stream",
     "text": [
      "chromosome    2530\n",
      "pSymB         1422\n",
      "pSymA         1007\n",
      "Name: contig, dtype: int64\n"
     ]
    },
    {
     "name": "stderr",
     "output_type": "stream",
     "text": [
      "/home/eze/anaconda3/lib/python3.8/site-packages/seaborn/_decorators.py:36: FutureWarning: Pass the following variables as keyword args: x, y. From version 0.12, the only valid positional argument will be `data`, and passing other arguments without an explicit keyword will result in an error or misinterpretation.\n",
      "  warnings.warn(\n"
     ]
    },
    {
     "data": {
      "image/png": "[encoded data removed]",
      "text/plain": [
       "<Figure size 432x288 with 1 Axes>"
      ]
     },
     "metadata": {},
     "output_type": "display_data"
    }
   ],
   "source": [
    "contig_count = competencia_df['contig'].value_counts()\n",
    "print(contig_count)\n",
    "#definimos el estilo de gráfico\n",
    "sns.set(style=\"darkgrid\")\n",
    "sns.barplot(contig_count.index, contig_count.values, alpha=0.9)\n",
    "#titulo\n",
    "plt.title('Frequency Distribution of Results')\n",
    "#Nombres de los ejes\n",
    "plt.ylabel('Number of Occurrences', fontsize=12)\n",
    "plt.xlabel('Results', fontsize=12)\n",
    "\n",
    "plt.show()"
   ]
  },
  {
   "cell_type": "code",
   "execution_count": 48,
   "metadata": {},
   "outputs": [
    {
     "data": {
      "image/png": "[encoded data removed]",
      "text/plain": [
       "<Figure size 432x288 with 1 Axes>"
      ]
     },
     "metadata": {},
     "output_type": "display_data"
    }
   ],
   "source": [
    "labels = competencia_df['contig'].astype('category').cat.categories.tolist()\n",
    "counts = competencia_df['contig'].value_counts()\n",
    "sizes = [counts[var_cat] for var_cat in labels]\n",
    "fig1, ax1 = plt.subplots()\n",
    "ax1.pie(sizes, labels=labels, autopct='%1.1f%%', shadow=True)\n",
    "ax1.axis('equal')\n",
    "plt.show()"
   ]
  },
  {
   "cell_type": "code",
   "execution_count": 52,
   "metadata": {},
   "outputs": [
    {
     "name": "stdout",
     "output_type": "stream",
     "text": [
      "contig  afectado\n",
      "False   False       2407\n",
      "        True          22\n",
      "True    False       2380\n",
      "        True         150\n",
      "dtype: int64\n",
      "Power_divergenceResult(statistic=4301.76467029643, pvalue=0.0)\n"
     ]
    }
   ],
   "source": [
    "df2 = competencia_df['contig'] + competencia_df['afectado']\n",
    "\n",
    "a = competencia_df['contig'] == 'chromosome'\n",
    "b = competencia_df['afectado'] == 'negativo'\n",
    "\n",
    "#comparamos los datos en una tabla de contingencia\n",
    "groups = df2.groupby([a,b]).count() \n",
    "print (groups)\n",
    "print(ss.chisquare(groups, ddof=0, axis=0))"
   ]
  },
  {
   "cell_type": "code",
   "execution_count": 51,
   "metadata": {},
   "outputs": [],
   "source": []
  },
  {
   "cell_type": "code",
   "execution_count": null,
   "metadata": {},
   "outputs": [],
   "source": []
  }
 ],
 "metadata": {
  "kernelspec": {
   "display_name": "base",
   "language": "python",
   "name": "python3"
  },
  "language_info": {
   "codemirror_mode": {
    "name": "ipython",
    "version": 3
   },
   "file_extension": ".py",
   "mimetype": "text/x-python",
   "name": "python",
   "nbconvert_exporter": "python",
   "pygments_lexer": "ipython3",
   "version": "3.8.8"
  },
  "orig_nbformat": 4
 },
 "nbformat": 4,
 "nbformat_minor": 2
}
